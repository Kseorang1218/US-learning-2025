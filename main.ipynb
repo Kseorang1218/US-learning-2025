{
 "cells": [
  {
   "cell_type": "code",
   "execution_count": 1,
   "metadata": {},
   "outputs": [],
   "source": [
    "import funs\n",
    "\n",
    "import torch\n",
    "import os\n",
    "\n",
    "from torch.optim import Adam\n",
    "\n",
    "config = funs.load_yaml('./config.yaml')"
   ]
  },
  {
   "cell_type": "code",
   "execution_count": 2,
   "metadata": {},
   "outputs": [
    {
     "name": "stdout",
     "output_type": "stream",
     "text": [
      "device = cuda\n",
      "\n",
      "Creating train dataframe...\n",
      "----------------------------------------\n"
     ]
    },
    {
     "name": "stderr",
     "output_type": "stream",
     "text": [
      "fan: 100%|██████████| 2600/2600 [00:13<00:00, 188.41it/s]\n",
      "pump: 100%|██████████| 3293/3293 [00:16<00:00, 202.66it/s]\n",
      "slider: 100%|██████████| 2314/2314 [00:11<00:00, 203.06it/s]\n",
      "valve: 100%|██████████| 3212/3212 [00:13<00:00, 232.12it/s]\n"
     ]
    },
    {
     "name": "stdout",
     "output_type": "stream",
     "text": [
      "\n",
      "Creating val dataframe...\n",
      "----------------------------------------\n"
     ]
    },
    {
     "name": "stderr",
     "output_type": "stream",
     "text": [
      "fan: 100%|██████████| 1510/1510 [00:06<00:00, 232.06it/s]\n",
      "pump: 100%|██████████| 486/486 [00:02<00:00, 239.92it/s]\n",
      "slider: 100%|██████████| 1068/1068 [00:04<00:00, 238.89it/s]\n",
      "valve: 100%|██████████| 478/478 [00:01<00:00, 239.24it/s]\n"
     ]
    },
    {
     "name": "stdout",
     "output_type": "stream",
     "text": [
      "\n",
      "Creating test dataframe...\n",
      "----------------------------------------\n"
     ]
    },
    {
     "name": "stderr",
     "output_type": "stream",
     "text": [
      "fan: 100%|██████████| 1440/1440 [00:06<00:00, 238.65it/s]\n",
      "pump: 100%|██████████| 426/426 [00:01<00:00, 232.96it/s]\n",
      "slider: 100%|██████████| 712/712 [00:02<00:00, 237.99it/s]\n",
      "valve: 100%|██████████| 480/480 [00:02<00:00, 236.88it/s]\n"
     ]
    }
   ],
   "source": [
    "funs.set_seed(config.seed)\n",
    "device = torch.device('cuda' if torch.cuda.is_available() else 'cpu')\n",
    "print('device =', device)\n",
    "\n",
    "data_root_dirs = os.path.join(config.data_dir, config.snr)\n",
    "\n",
    "# data building\n",
    "machine_types = config.machine_types\n",
    "\n",
    "train_dirs = [os.path.join(data_root_dirs, directory, 'train') for directory in machine_types]\n",
    "val_dirs = [os.path.join(data_root_dirs, directory, 'val') for directory in machine_types]\n",
    "test_dirs = [os.path.join(data_root_dirs, directory, 'test') for directory in machine_types]\n",
    "\n",
    "# make dataframe\n",
    "print('\\nCreating train dataframe...\\n' + '-' * 40)\n",
    "train_df = funs.make_dataframe(config, train_dirs)\n",
    "print('\\nCreating val dataframe...\\n' + '-' * 40)\n",
    "val_df = funs.make_dataframe(config, val_dirs)\n",
    "print('\\nCreating test dataframe...\\n' + '-' * 40)\n",
    "test_df = funs.make_dataframe(config, test_dirs)"
   ]
  },
  {
   "cell_type": "code",
   "execution_count": 3,
   "metadata": {},
   "outputs": [],
   "source": [
    "train_data, train_label = funs.get_data_label_arrays(train_df, config.sample_size, config.overlap)\n",
    "val_data, val_label= funs.get_data_label_arrays(val_df, config.sample_size, config.overlap)\n",
    "test_data, test_label  = funs.get_data_label_arrays(test_df, config.sample_size, config.overlap)"
   ]
  },
  {
   "cell_type": "code",
   "execution_count": 4,
   "metadata": {},
   "outputs": [],
   "source": [
    "train_dataset = funs.MIMIIDataset(train_data, train_label)\n",
    "val_dataset = funs.MIMIIDataset(val_data, val_label)\n",
    "test_dataset = funs.MIMIIDataset(test_data, test_label)"
   ]
  },
  {
   "cell_type": "code",
   "execution_count": 5,
   "metadata": {},
   "outputs": [],
   "source": [
    "train_loader = funs.get_dataloader(train_dataset, config.batch_size, shuffle = True)\n",
    "val_loader = funs.get_dataloader(val_dataset, config.batch_size, shuffle = False)\n",
    "test_loader = funs.get_dataloader(test_dataset, config.batch_size, shuffle = False)"
   ]
  },
  {
   "cell_type": "code",
   "execution_count": 6,
   "metadata": {},
   "outputs": [],
   "source": [
    "model = funs.VAE(input_dim=config.sample_size, latent_dim=32).to(device)\n",
    "optimizer = Adam(model.parameters(), lr = float(config.learning_rate))\n",
    "loss = funs.Loss()"
   ]
  },
  {
   "cell_type": "code",
   "execution_count": 7,
   "metadata": {},
   "outputs": [
    {
     "name": "stdout",
     "output_type": "stream",
     "text": [
      "\n",
      "Starting Training... \n",
      "----------------------------------------\n",
      "[EPOCH: 0] \n",
      "Train Loss: 19.52836\n",
      "\n",
      "[EPOCH: 1] \n",
      "Train Loss: 24.84220\n",
      "\n",
      "\n",
      "Starting Evaluation... \n",
      "----------------------------------------\n",
      "Validation Loss: 23.19044\n",
      "\n",
      "Starting Evaluation... \n",
      "----------------------------------------\n",
      "Validation Loss: 21.21580\n"
     ]
    }
   ],
   "source": [
    "trainer = funs.Trainer(model, loss, optimizer, device)\n",
    "train_loss_list = trainer.train(config.epoch, train_loader)\n",
    "trainer.save(config.model_root, model_name='vae')\n",
    "\n",
    "model_path = f'{config.model_root}/vae.pt'\n",
    "trainer.model.load_state_dict(torch.load(model_path, weights_only=True))\n",
    "\n",
    "eval_loss_list = trainer.eval(val_loader)\n",
    "test_loss_list = trainer.eval(test_loader)"
   ]
  },
  {
   "cell_type": "code",
   "execution_count": null,
   "metadata": {},
   "outputs": [],
   "source": []
  }
 ],
 "metadata": {
  "kernelspec": {
   "display_name": "us",
   "language": "python",
   "name": "python3"
  },
  "language_info": {
   "codemirror_mode": {
    "name": "ipython",
    "version": 3
   },
   "file_extension": ".py",
   "mimetype": "text/x-python",
   "name": "python",
   "nbconvert_exporter": "python",
   "pygments_lexer": "ipython3",
   "version": "3.10.12"
  }
 },
 "nbformat": 4,
 "nbformat_minor": 2
}
